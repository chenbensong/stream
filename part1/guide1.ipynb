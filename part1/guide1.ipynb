{
 "cells": [
  {
   "cell_type": "markdown",
   "metadata": {
    "editable": true,
    "ulab": {
     "buttons": {
      "ulab-button-2d7fe143": {
       "bashCommand": "/home/workspace/stedi-application/start.sh",
       "filesToOpen": [],
       "isPreviewButton": false,
       "runInBackground": false,
       "style": "primary",
       "text": "Start Banking Simulation",
       "toggleOffText": "HIDE SOLUTION",
       "toggleOnText": "SHOW SOLUTION"
      },
      "ulab-button-341c8451": {
       "bashCommand": "/home/workspace/startup/startup.sh",
       "filesToOpen": [],
       "isPreviewButton": false,
       "runInBackground": false,
       "style": "primary",
       "text": "Start Kafka",
       "toggleOffText": "HIDE SOLUTION",
       "toggleOnText": "SHOW SOLUTION"
      }
     }
    }
   },
   "source": [
    "# Start a Spark Cluster\n",
    "\n",
    "- From the terminal: ```cd /home/workspace/spark/sbin```\n",
    "\n",
    "- Type: ```./start-master.sh```\n",
    "\n",
    "- Watch for a message similar to this: ```Logging to /home/workspace/spark/logs/spark--org.apache.spark.deploy.master.Master-1-5a00814ba363.out```\n",
    "    \n",
    "- Copy the path to your log, for example: ```/home/workspace/sparklogs/logs/spark--org.apache.spark.deploy.master.Master-1-5a00814ba363.out```\n",
    "\n",
    "- Type: ```cat [path to log]```\n",
    "\n",
    "- Look for a message like this: ```Starting Spark master at spark://5a00814ba363:7077```\n",
    "    \n",
    "- Copy the Spark URI, for example: ```spark://5a00814ba363:7077```\n",
    "\n",
    "- Type: ```./start-slave.sh [Spark URI]```\n",
    "    \n",
    "# Create a hello world Spark application and submit it to the cluster\n",
    "\n",
    "- Complete the hellospark.py application (be sure to click File Save when done)\n",
    "\n",
    "- From the terminal type: ```cd /home/workspace/spark/bin```\n",
    "\n",
    "- Type: ```./spark-submit /home/workspace/hellospark.py```\n",
    "\n",
    "- Watch for the output at the end for the counts"
   ]
  },
  {
   "cell_type": "markdown",
   "metadata": {
    "editable": true,
    "ulab": {
     "buttons": {
      "ulab-button-a3cfccb7": {
       "bashCommand": "/home/workspace/startup/startup.sh",
       "filesToOpen": [],
       "isPreviewButton": false,
       "runInBackground": false,
       "style": "primary",
       "text": "Start Kafka",
       "toggleOffText": "HIDE SOLUTION",
       "toggleOnText": "SHOW SOLUTION"
      }
     }
    }
   },
   "source": [
    "# Create a Spark Streaming Dataframe with a Kafka source and write it to the console\n",
    "\n",
    "- Click the button to start Kafka and Trucking Simulation: <button id=\"ulab-button-a3cfccb7\" class=\"ulab-btn--primary\"></button>\n",
    "- Start the spark master and spark worker\n",
    "     - From the terminal type: ```/home/workspace/spark/sbin/start-master.sh```\n",
    "     - View the log and copy down the Spark URI\n",
    "     - From the terminal type: ```/home/workspace/spark/sbin/start-slave.sh [Spark URI]```\n",
    "- Complete the kafkaconsole.py python script\n",
    "- Submit the application to the spark cluster:\n",
    "     - From the terminal type: \n",
    "     ```/home/workspace/spark/submit-kakfaconsole.sh```\n",
    "- Watch the terminal for the values to scroll past (it may take up to 2 minutes)\n",
    "  "
   ]
  },
  {
   "cell_type": "markdown",
   "metadata": {
    "editable": true
   },
   "source": [
    "<!--\n",
    "%%ulab_page_divider\n",
    "--><hr/>"
   ]
  },
  {
   "cell_type": "markdown",
   "metadata": {
    "editable": true,
    "ulab": {
     "buttons": {
      "ulab-button-65d43ef1": {
       "bashCommand": "/home/workspace/startup/startup.sh",
       "filesToOpen": [],
       "isPreviewButton": false,
       "runInBackground": false,
       "style": "primary",
       "text": "Start Kafka",
       "toggleOffText": "HIDE SOLUTION",
       "toggleOnText": "SHOW SOLUTION"
      }
     }
    }
   },
   "source": [
    "# Create and query temporary spark view and write to kafka\n",
    "\n",
    "- **If you just started the workspace**, click the button to start Kafka and Trucking Simulation: <button id=\"ulab-button-65d43ef1\" class=\"ulab-btn--primary\"></button>\n",
    "- **If you just started the workspace**, start the spark master and spark worker\n",
    "     - From the terminal type: ```/home/workspace/spark/sbin/start-master.sh```\n",
    "     - View the log and copy down the Spark URI\n",
    "     - From the terminal type: ```/home/workspace/spark/sbin/start-slave.sh [Spark URI]```\n",
    "- Complete the gear-position.py python script\n",
    "- Submit the application to the spark cluster:\n",
    "     - From the terminal type: \n",
    "     ```/home/workspace/spark/submit-gear-position.sh```\n",
    "- Use the kafka-console-consumer command to watch the data you are sinking"
   ]
  },
  {
   "cell_type": "markdown",
   "metadata": {
    "editable": true
   },
   "source": [
    "<!--\n",
    "%%ulab_page_divider\n",
    "--><hr/>"
   ]
  },
  {
   "cell_type": "markdown",
   "metadata": {
    "editable": true,
    "ulab": {
     "buttons": {
      "ulab-button-400402dc": {
       "bashCommand": "/home/workspace/startup/startup.sh",
       "filesToOpen": [],
       "isPreviewButton": false,
       "runInBackground": false,
       "style": "primary",
       "text": "Start Kafka",
       "toggleOffText": "HIDE SOLUTION",
       "toggleOnText": "SHOW SOLUTION"
      }
     }
    }
   },
   "source": [
    "# Parse a JSON payload into separate fields for analysis\n",
    "\n",
    "- **If you just started the workspace**, click the button to start Kafka and Trucking Simulation:  <button id=\"ulab-button-400402dc\" class=\"ulab-btn--primary\"></button>\n",
    "- **If you just started the workspace**, start the spark master and spark worker\n",
    "     - From the terminal type: ```/home/workspace/spark/sbin/start-master.sh```\n",
    "     - View the log and copy down the Spark URI\n",
    "     - From the terminal type: ```/home/workspace/spark/sbin/start-slave.sh [Spark URI]```\n",
    "- Complete the vehicle-status.py python script\n",
    "- Submit the application to the spark cluster:\n",
    "     - From the terminal type: \n",
    "     ```/home/workspace/spark/submit-vehicle-status.sh```\n",
    "- Watch the terminal for the values to scroll past (can take up to 2 minutes)\n",
    "   "
   ]
  },
  {
   "cell_type": "markdown",
   "metadata": {
    "editable": true
   },
   "source": [
    "<!--\n",
    "%%ulab_page_divider\n",
    "--><hr/>"
   ]
  },
  {
   "cell_type": "markdown",
   "metadata": {
    "editable": true,
    "ulab": {
     "buttons": {
      "ulab-button-c98eaa12": {
       "bashCommand": "/home/workspace/startup/startup.sh",
       "filesToOpen": [],
       "isPreviewButton": false,
       "runInBackground": false,
       "style": "primary",
       "text": "Start Kafka",
       "toggleOffText": "HIDE SOLUTION",
       "toggleOnText": "SHOW SOLUTION"
      }
     }
    }
   },
   "source": [
    "# Join streaming dataframes from different sources\n",
    "\n",
    "- **If you just started the workspace**, click the button to start Kafka and Trucking Simulation: <button id=\"ulab-button-c98eaa12\" class=\"ulab-btn--primary\"></button>\n",
    "- **If you just started the workspace**, start the spark master and spark worker\n",
    "     - From the terminal type: ```/home/workspace/spark/sbin/start-master.sh```\n",
    "     - View the log and copy down the Spark URI\n",
    "     - From the terminal type: ```/home/workspace/spark/sbin/start-slave.sh [Spark URI]```\n",
    "- Complete the vehicle-checkin.py python script\n",
    "- Submit the application to the spark cluster:\n",
    "     - From the terminal type: \n",
    "     ```/home/workspace/spark/submit-vehicle-checkin.sh```\n",
    "- Watch the terminal for the values to scroll past (can take up to 2 minutes)\n",
    "    "
   ]
  },
  {
   "cell_type": "markdown",
   "metadata": {
    "editable": true
   },
   "source": [
    "<!--\n",
    "%%ulab_page_divider\n",
    "--><hr/>"
   ]
  },
  {
   "cell_type": "markdown",
   "metadata": {
    "editable": true
   },
   "source": [
    "# Write a Streaming Dataframe to Kafka\n",
    "\n",
    "- **If you just started the workspace**, click the button to start Kafka and Trucking Simulation: <button id=\"ulab-button-341c8451\" class=\"ulab-btn--primary\"></button>\n",
    "- **If you just started the workspace**, start the spark master and spark worker\n",
    "     - From the terminal type: ```/home/workspace/spark/sbin/start-master.sh```\n",
    "     - View the log and copy down the Spark URI\n",
    "     - From the terminal type: ```/home/workspace/spark/sbin/start-slave.sh [Spark URI]```\n",
    "- Complete the vehicle-checkin.py python script and then change the sink from the console to a new kafka topic\n",
    "- Submit the application to the spark cluster:\n",
    "     - From the terminal type: \n",
    "     ```/home/workspace/spark/submit-vehicle-checkin.sh```\n",
    "\n",
    "    "
   ]
  },
  {
   "cell_type": "markdown",
   "metadata": {
    "editable": true
   },
   "source": [
    "<!--\n",
    "%%ulab_page_divider\n",
    "--><hr/>"
   ]
  },
  {
   "cell_type": "markdown",
   "metadata": {
    "editable": true,
    "ulab": {
     "buttons": {
      "ulab-button-c16b9e77": {
       "bashCommand": "/home/workspace/startup/start-kafka-redis.sh",
       "filesToOpen": [],
       "isPreviewButton": false,
       "runInBackground": false,
       "style": "primary",
       "text": "Start Kafka",
       "toggleOffText": "HIDE SOLUTION",
       "toggleOnText": "SHOW SOLUTION"
      }
     }
    }
   },
   "source": [
    "# Manually Save and Read With Redis and Kafka\n",
    "\n",
    "- **If you just started the workspace**, click the button to start Kafka: <button id=\"ulab-button-c16b9e77\" class=\"ulab-btn--primary\"></button>\n",
    "- Run the Redis CLI:\n",
    "     - From the terminal type: ```/data/redis/redis-stable/src/redis-cli -a notreally```\n",
    "     - From the terminal type: ```keys **```\n",
    "     - You will see the list of all the Redis tables\n",
    "     - From another terminal type ```/data/kafka/bin/kafka-console-consumer --bootstrap-server localhost:9092 --topic redis-server```\n",
    "     - From the first terminal type: ```set myKey myValue```\n",
    "     - Open the second terminal\n",
    "     - A new JSON message will appear from the redis-server topic\n",
    "     - The key field contains the base64 encoded name of the Redis key\n",
    "     - The value field contains the base64 encoded value written to the key \n",
    "- To decode the name of the Redis key, open a third terminal, and type: ```echo \"[encoded key]\" | base64 -d```\n",
    "- To decode the value, copy the encoded value, then from the third terminal type: ```echo \"[encoded value]\" | base64 -d```\n",
    "\n",
    "    "
   ]
  },
  {
   "cell_type": "markdown",
   "metadata": {
    "editable": true
   },
   "source": [
    "<!--\n",
    "%%ulab_page_divider\n",
    "--><hr/>"
   ]
  },
  {
   "cell_type": "markdown",
   "metadata": {
    "editable": true,
    "ulab": {
     "buttons": {
      "ulab-button-ab06e4fd": {
       "bashCommand": "/home/workspace/startup/startup.sh",
       "filesToOpen": [],
       "isPreviewButton": false,
       "runInBackground": false,
       "style": "primary",
       "text": "Start Kafka",
       "toggleOffText": "HIDE SOLUTION",
       "toggleOnText": "SHOW SOLUTION"
      }
     }
    }
   },
   "source": [
    "# Parse Base64 With Pyspark\n",
    "\n",
    "- **If you just started the workspace**, click the button to start Kafka and Trucking Simulation: <button id=\"ulab-button-ab06e4fd\" class=\"ulab-btn--primary\"></button>\n",
    "- **If you just started the workspace**, start the spark master and spark worker\n",
    "     - From the terminal type: ```/home/workspace/spark/sbin/start-master.sh```\n",
    "     - View the log and copy down the Spark URI\n",
    "     - From the terminal type: ```/home/workspace/spark/sbin/start-slave.sh [Spark URI]```\n",
    "- Complete the payment.py python script\n",
    "- Submit the application to the spark cluster:\n",
    "     - From the terminal type: \n",
    "     ```/home/workspace/spark/submit-reservation-base64.sh```\n",
    "- Watch the terminal for the values to scroll past (may take up to 2 minutes)\n",
    "    "
   ]
  },
  {
   "cell_type": "markdown",
   "metadata": {
    "editable": true
   },
   "source": [
    "<!--\n",
    "%%ulab_page_divider\n",
    "--><hr/>"
   ]
  },
  {
   "cell_type": "markdown",
   "metadata": {
    "editable": true,
    "ulab": {
     "buttons": {
      "ulab-button-30d70c53": {
       "bashCommand": "/home/workspace/stedi-application/stop.sh & /home/workspace/stedi-application/start.sh",
       "filesToOpen": [],
       "isPreviewButton": false,
       "runInBackground": false,
       "style": "primary",
       "text": "Start Simulation",
       "toggleOffText": "HIDE SOLUTION",
       "toggleOnText": "SHOW SOLUTION"
      },
      "ulab-button-d5e267f4": {
       "bashCommand": "/home/workspace/startup/startup.sh",
       "filesToOpen": [],
       "isPreviewButton": false,
       "runInBackground": false,
       "style": "primary",
       "text": "Start Kafka",
       "toggleOffText": "HIDE SOLUTION",
       "toggleOnText": "SHOW SOLUTION"
      }
     }
    }
   },
   "source": [
    "# Sink a Subset of JSON fields with Pyspark\n",
    "\n",
    "- **If you just started the workspace**, click the button to start Kafka: <button id=\"ulab-button-d5e267f4\" class=\"ulab-btn--primary\"></button>\n",
    "- **If you just started the workspace**, start the spark master and spark worker\n",
    "     - From the terminal type: ```/home/workspace/spark/sbin/start-master.sh```\n",
    "     - View the log and copy down the Spark URI\n",
    "     - From the terminal type: ```/home/workspace/spark/sbin/start-slave.sh [Spark URI]```\n",
    "- Complete the payment.py python script\n",
    "- Change the payment.py python script to add one more streaming dataframe which selects only the reservationId, and amount\n",
    "- Instead of sinking to the console, sink to a kafka topic\n",
    "- Submit the application to the spark cluster:\n",
    "     - From the terminal type: \n",
    "     ```/home/workspace/spark/submit-payment.sh```\n",
    "- Connect to the kafka sink topic and watch the data streaming (may take up to 2 minutes)\n",
    "    "
   ]
  },
  {
   "cell_type": "markdown",
   "metadata": {
    "editable": true,
    "ulab": {
     "buttons": {
      "ulab-button-409ad520": {
       "bashCommand": "/home/workspace/startup/startup.sh",
       "filesToOpen": [],
       "isPreviewButton": false,
       "runInBackground": false,
       "style": "primary",
       "text": "Start Kafka",
       "toggleOffText": "HIDE SOLUTION",
       "toggleOnText": "SHOW SOLUTION"
      }
     }
    }
   },
   "source": [
    "# Join Two Base64 Decoded Dataframes\n",
    "\n",
    "- **If you just started the workspace**, click the button to start Kafka and Trucking Simulation: <button id=\"ulab-button-409ad520\" class=\"ulab-btn--primary\"></button>\n",
    "- **If you just started the workspace**, start the spark master and spark worker\n",
    "     - From the terminal type: ```/home/workspace/spark/sbin/start-master.sh```\n",
    "     - View the log and copy down the Spark URI\n",
    "     - From the terminal type: ```/home/workspace/spark/sbin/start-slave.sh [Spark URI]```\n",
    "- Complete the reservation-payment.py python script\n",
    "- Submit the application to the spark cluster:\n",
    "     - From the terminal type: \n",
    "     ```/home/workspace/spark/submit-reservation-payment.sh```\n",
    "- Watch the terminal for the values to scroll past (may take up to 2 minutes)"
   ]
  },
  {
   "cell_type": "code",
   "execution_count": null,
   "metadata": {
    "editable": true
   },
   "outputs": [],
   "source": []
  }
 ],
 "metadata": {
  "kernelspec": {
   "display_name": "Python 3",
   "language": "python",
   "name": "python3"
  },
  "language_info": {
   "codemirror_mode": {
    "name": "ipython",
    "version": 3
   },
   "file_extension": ".py",
   "mimetype": "text/x-python",
   "name": "python",
   "nbconvert_exporter": "python",
   "pygments_lexer": "ipython3",
   "version": "3.7.3"
  }
 },
 "nbformat": 4,
 "nbformat_minor": 4
}
